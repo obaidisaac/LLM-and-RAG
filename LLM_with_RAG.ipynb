{
 "cells": [
  {
   "cell_type": "markdown",
   "id": "60c232bc-5560-47c6-8c72-05f94d3378ea",
   "metadata": {},
   "source": [
    "This notebook shows a simple implementation of Retrieval Augmented Generation (RAG) using an LLM and to generate text similar to Rumi poetry"
   ]
  },
  {
   "cell_type": "code",
   "execution_count": null,
   "id": "558a33df-a894-4b42-988e-989ed557a7e0",
   "metadata": {},
   "outputs": [],
   "source": []
  },
  {
   "cell_type": "code",
   "execution_count": 1,
   "id": "15cea922-9fa6-4958-98c5-4ec361cfe0b5",
   "metadata": {},
   "outputs": [],
   "source": [
    "import os\n",
    "import tqdm as notebook_tqdm\n",
    "from langchain.llms import HuggingFaceHub\n",
    "from langchain.document_loaders import TextLoader\n",
    "from langchain.text_splitter import RecursiveCharacterTextSplitter\n",
    "from langchain.embeddings import HuggingFaceInferenceAPIEmbeddings\n",
    "from langchain.vectorstores import Chroma\n",
    "from langchain.schema.output_parser import StrOutputParser\n",
    "from langchain.schema.runnable import RunnablePassthrough\n",
    "from langchain.prompts import PromptTemplate\n",
    "from langchain.chains import LLMChain"
   ]
  },
  {
   "cell_type": "code",
   "execution_count": 23,
   "id": "b58fcdd9-0497-4b14-aeb1-fda1fc4d6c58",
   "metadata": {},
   "outputs": [],
   "source": [
    "import warnings\n",
    "warnings.filterwarnings('ignore')\n",
    "# Known warnings : Langchain is still using the deprecated huggingface_hub InferenceApi instead of newer InferenceApi"
   ]
  },
  {
   "cell_type": "code",
   "execution_count": 111,
   "id": "d05e9ef7-1f7a-43ad-af78-03cdf4569242",
   "metadata": {},
   "outputs": [
    {
     "name": "stdin",
     "output_type": "stream",
     "text": [
      "Enter your HF Inference API Key:\n",
      "\n",
      " ········\n"
     ]
    }
   ],
   "source": [
    "import getpass\n",
    "\n",
    "hf_inference_api_key = getpass.getpass(\"Enter your HF Inference API Key:\\n\\n\")"
   ]
  },
  {
   "cell_type": "markdown",
   "id": "357d636c-fbfb-4b9a-8433-bfa74025c65a",
   "metadata": {},
   "source": [
    "Select llm from huggingface"
   ]
  },
  {
   "cell_type": "code",
   "execution_count": 112,
   "id": "4d258996-71af-44ee-a3ff-9e112ff5e658",
   "metadata": {},
   "outputs": [],
   "source": [
    "llm = HuggingFaceHub(repo_id = \"HuggingFaceH4/zephyr-7b-alpha\",\n",
    "                     huggingfacehub_api_token = hf_inference_api_key,\n",
    "                     model_kwargs={\n",
    "                                   \"temperature\": 0.7,\n",
    "                                   \"do_sample\": True,\n",
    "                                   \"num_beams\": 5,\n",
    "                                   \"num_beam_groups\": 4,\n",
    "                                   \"no_repeat_ngram_size\": 3,\n",
    "                                   \"exponential_decay_length_penalty\": (8, 0.5),\n",
    "                                   \"repetition_penalty\": 1.3\n",
    "                        })"
   ]
  },
  {
   "cell_type": "markdown",
   "id": "3d2598f3-6a60-4d9d-82d0-f5feabfccf90",
   "metadata": {},
   "source": [
    "Load text file created from Rumi poems and used in prior LSTM and seq2seq projects."
   ]
  },
  {
   "cell_type": "code",
   "execution_count": 10,
   "id": "8a080fd0-7e6c-4fdb-ae2f-a40efa3dbe92",
   "metadata": {},
   "outputs": [
    {
     "name": "stdout",
     "output_type": "stream",
     "text": [
      "1\n"
     ]
    }
   ],
   "source": [
    "loader = TextLoader(\"/Users/isaacobaid/rumi_project/rumi.txt\")\n",
    "document = loader.load()"
   ]
  },
  {
   "cell_type": "code",
   "execution_count": 11,
   "id": "8506877d-12d9-4de1-8b32-ea2a9a6b3267",
   "metadata": {},
   "outputs": [],
   "source": [
    "# Assuming `documentclasstext` is a Document object\n",
    "def json_serializable(documentclasstext):\n",
    "    text_list = []\n",
    "    for text in range(len(documentclasstext)):\n",
    "        doc = documentclasstext[text]\n",
    "        json_serializable_doc = {'page_content': doc.page_content,'metadata': doc.metadata}\n",
    "        text_list.append(json_serializable_doc.get('page_content'))\n",
    "    return text_list\n",
    "\n",
    "fulltext = json_serializable(document)"
   ]
  },
  {
   "cell_type": "code",
   "execution_count": 98,
   "id": "ddea0de4-28ea-4357-8b12-55272c7f19ca",
   "metadata": {},
   "outputs": [
    {
     "name": "stdout",
     "output_type": "stream",
     "text": [
      "Number of chunks: 1252\n",
      "\n",
      "Sample chunk:\n",
      "\n",
      "page_content='for what circles so perfectly.\\nA secret turning in us makes the universe turn.\\nHead unaware of feet,\\nand feet head. Neither cares.\\nThey keep turning.\\nThis moment this love comes to rest in me, many beings in one being.' metadata={'start_index': 283068}\n",
      "\n"
     ]
    }
   ],
   "source": [
    "\n",
    "text_splitter = RecursiveCharacterTextSplitter(\n",
    "    chunk_size=300,\n",
    "    chunk_overlap=30,\n",
    "    length_function=len,\n",
    "    add_start_index=True,\n",
    ")\n",
    "\n",
    "texts = text_splitter.create_documents(fulltext)\n",
    "\n",
    "print(\"Number of chunks: \" + str(len(texts)))\n",
    "print(\"\\nSample chunk:\" + \"\\n\")\n",
    "print(texts[-10])\n",
    "print()\n",
    "#print(texts[-2] + \"\\n\")\n",
    "#print(texts[-1] + \"\\n\")"
   ]
  },
  {
   "cell_type": "markdown",
   "id": "bb713dca-61e2-4b4b-aefc-1f67484051f8",
   "metadata": {},
   "source": [
    "Embeddings from HuggingFace"
   ]
  },
  {
   "cell_type": "code",
   "execution_count": 30,
   "id": "d0bf940b-fd99-44ed-881a-7cbfb653fadd",
   "metadata": {},
   "outputs": [],
   "source": [
    "embeddings = HuggingFaceInferenceAPIEmbeddings(\n",
    "    api_key=hf_inference_api_key, \n",
    "    model_name=\"sentence-transformers/all-MiniLM-l6-v2\"\n",
    ")"
   ]
  },
  {
   "cell_type": "markdown",
   "id": "cc269f6f-f226-4a18-890a-df0672d15485",
   "metadata": {},
   "source": [
    "Save embeddings into a database for similarity query. Sample retriever with query words."
   ]
  },
  {
   "cell_type": "code",
   "execution_count": 71,
   "id": "d2fdb3f2-a32a-4ca0-8748-6fbdb291c910",
   "metadata": {},
   "outputs": [],
   "source": [
    "db = Chroma.from_texts(json_serializable(texts), embeddings)\n",
    "retriever = db.as_retriever(search_type=\"mmr\", k=6) #maximal marginal relevance for similarity + diversity\n"
   ]
  },
  {
   "cell_type": "markdown",
   "id": "8cd33c5f-48ff-49a8-9156-8774967ad431",
   "metadata": {},
   "source": [
    "Sample retriever with query words."
   ]
  },
  {
   "cell_type": "code",
   "execution_count": 113,
   "id": "38907913-6013-4d37-b285-3021faa92440",
   "metadata": {},
   "outputs": [
    {
     "data": {
      "text/plain": [
       "[Document(page_content=\"of comfort and pain is better\\nthan any attending ritual. That splinter of intelligence is substance.\\nThe fire and water themselves accidental, done with mirrors.\\n\\nFor sixty years I have been forgetful,\\nevery minute, but not for a second\\nhas this flowing toward me stopped or slowed. I deserve nothing. Today I recognize\\nthat I am the guest the mystics talk about.\\nI play this living music for my host.\\nEverything today is for the host.\\nI saw you last night in the gathering,\\nbut could not take you openly in my arms,\\nso I put my lips next to your cheek, pretending to talk privately.\\n\\nOutside, the freezing desert night.\\nThis other night inside grows warm, kindling. Let the landscape be covered with thorny crust. We have a soft garden in here.\\nThe continents blasted,\\ncities and little towns, everything\\nbecome a scorched, blackened ball.\\n\\n\\n The news we hear is full of grief for that future, but the real news inside here\\nis there's no news at all.\\nFriend, our closeness is this: anywhere you put your foot, feel me in the firmness under you.\\nHow is it with this love,\\nI see your world and not you?\"),\n",
       " Document(page_content='A man on his deathbed left instructions\\nfor dividing up his goods among his three sons. He had devoted his entire spirit to those sons. They stood like cypress trees around him,\\nquiet and strong.\\nHe told the town judge, \"Whichever of my sons is laziest,\\ngive him all the inheritance.\"\\nThen he died, and the judge turned to the three,\\n\"Each of you must give some account of your laziness, so I can understand just how you are lazy.\"\\nMystics are experts in laziness. They rely on it,\\nbecause they continuously see God working all around them. The harvest keeps coming in, yet they\\nnever even did the plowing!\\n\"Come on. Say something about the ways you are lazy.\"\\nEvery spoken word is a covering for the inner self.\\nA little curtain-flick no wider than a slice\\nof roast meat can reveal hundreds of exploding suns. Even if what is being said is trivial and wrong,\\nthe listener hears the source. One breeze comes'),\n",
       " Document(page_content=\"The here-and-now mountain is a tiny piece of a piece of straw\\nblown off into emptiness.\\nThese words I'm saying so much begin to lose meaning: existence, emptiness, mountain, straw: words\\nand what they try to say swept\\nout the window, down the slant of the roof.\\n\\nInside this new love, die.\\nYour way begins on the other side.\\nBecome the sky.\\nTake an axe to the prison wall.\\nEscape.\\nWalk out like someone suddenly born into color. Do it now.\\nYou're covered with thick cloud.\\nSlide out the side. Die,\\nand be quiet. Quietness is the surest sign\\nthat you've died.\\nYour old life was a frantic running\\nfrom silence.\\nThe speechless full moon comes out now.\\nSANAI\\nSomeone says, Sanai is dead. No small thing to say.\\nHe was not bits of husk,\\nor a puddle that freezes overnight,\\nor a comb that cracks when you use it, or a pod crushed open on the ground.\"),\n",
       " Document(page_content=\"but we are older than those cities.\\nWe began as a mineral. We emerged into plant life\\nand into the animal state, and then into being human, and always we have forgotten our former states, except in early spring when we slightly recall\\nbeing green again.\\nThat's how a young person turns toward a teacher. That's how a baby leans\\ntoward the breast, without knowing the secret of its desire, yet turning instinctively.\\nHumankind is being led along an evolving course, through this migration of intelligences,\\nand though we seem to be sleeping,\\nthere is an inner wakefulness\\nthat directs the dream,\\nand that will eventually startle us back to the truth of who we are.\")]"
      ]
     },
     "execution_count": 113,
     "metadata": {},
     "output_type": "execute_result"
    }
   ],
   "source": [
    "\n",
    "subject = \"mystic, mountains and dreams\"\n",
    "\n",
    "retrieved_docs = retriever.invoke(subject)\n",
    "retrieved_docs"
   ]
  },
  {
   "cell_type": "code",
   "execution_count": null,
   "id": "1e740925-9d49-4be2-afe0-ef6a7ac8f821",
   "metadata": {},
   "outputs": [],
   "source": []
  },
  {
   "cell_type": "markdown",
   "id": "19b226c7-85f8-4584-a5cb-16d2810ae6af",
   "metadata": {},
   "source": [
    "Setup basic template"
   ]
  },
  {
   "cell_type": "code",
   "execution_count": 57,
   "id": "23fd6c3c-aa10-48fa-8cfd-9455495dfdb9",
   "metadata": {},
   "outputs": [],
   "source": [
    "\n",
    "template = \"\"\"\n",
    "\n",
    "A ghazal is a poetic form that consists of rhyming couplets and a refrain, with each line sharing the same meter.\n",
    "\n",
    "Here is an example of a ghazal about vitality, eternal peace and love: \n",
    "\n",
    "Where the water of life flows, no illness remains. \n",
    "In the garden of union, no thorn remains. \n",
    "They say there's a door between one heart and another. \n",
    "How can there be a door where no wall remains?\n",
    "\n",
    "Write a ghazal about {question} based on the following context: {context}\n",
    "\n",
    "\"\"\"\n"
   ]
  },
  {
   "cell_type": "markdown",
   "id": "2beb240c-63f2-462a-8630-f5cd8899f46c",
   "metadata": {},
   "source": [
    "Generate text"
   ]
  },
  {
   "cell_type": "code",
   "execution_count": 114,
   "id": "3cd9a3ac-6ec9-4a7b-b8fd-57d72a2669ed",
   "metadata": {
    "scrolled": true
   },
   "outputs": [
    {
     "name": "stdout",
     "output_type": "stream",
     "text": [
      "My mind wanders somewhere high above and wildly beyond\n",
      "Mountains pass by beneath the folds of time\n",
      "Dreams dance their own choreography like morning mist before dawn\n",
      "As I sit quietly listening intently to the silent melody within\n",
      "\n",
      "At times lost in thought like wisps of smoke escaping from afar\n",
      "Yet somehow compelled to return once more\n",
      "To seek solace in the stillness and simplicity of pure nature's call\n",
      "And sense the sacred presence dwelling deep within every soul\n",
      "\n",
      "Through ages past and countless generations gone\n",
      "Love has remained steadfast as both mountain and song\n",
      "An unrelenting force that endures far longer than mortals dare conceive\n",
      "Guiding souls while teaching them humility and gratitude to receive\n"
     ]
    }
   ],
   "source": [
    "\n",
    "prompt = PromptTemplate.from_template(template)\n",
    "\n",
    "model = llm\n",
    "\n",
    "chain = (\n",
    "    {\"context\": retriever, \"question\": RunnablePassthrough()}\n",
    "    | prompt\n",
    "    | model\n",
    "    | StrOutputParser()\n",
    ")\n",
    "\n",
    "response = chain.invoke(subject)\n",
    "print(response)"
   ]
  }
 ],
 "metadata": {
  "kernelspec": {
   "display_name": "Python 3 (ipykernel)",
   "language": "python",
   "name": "python3"
  },
  "language_info": {
   "codemirror_mode": {
    "name": "ipython",
    "version": 3
   },
   "file_extension": ".py",
   "mimetype": "text/x-python",
   "name": "python",
   "nbconvert_exporter": "python",
   "pygments_lexer": "ipython3",
   "version": "3.11.5"
  }
 },
 "nbformat": 4,
 "nbformat_minor": 5
}
